{
 "cells": [
  {
   "cell_type": "markdown",
   "id": "ae17dca9",
   "metadata": {},
   "source": [
    "# PMR3508 - Classificador KNN - Base Adult"
   ]
  },
  {
   "cell_type": "markdown",
   "id": "cb39a80c",
   "metadata": {},
   "source": [
    "# Importando os Dados (e as Bibliotecas)"
   ]
  },
  {
   "cell_type": "code",
   "execution_count": 1,
   "id": "75cdbcc5",
   "metadata": {},
   "outputs": [],
   "source": [
    "# Bibliotecas usadas\n",
    "\n",
    "import numpy as np\n",
    "import pandas as pd\n",
    "import matplotlib.pyplot as plt\n",
    "import seaborn as sns"
   ]
  },
  {
   "cell_type": "code",
   "execution_count": 2,
   "id": "0f5aa766",
   "metadata": {},
   "outputs": [],
   "source": [
    "# Criar o data.frame com os dados de treino\n",
    "\n",
    "data_frame = pd.read_csv(\"C:/Users/samue/Desktop/1. Prog/3. Python (Machine Learning)/Resolução/train_data.csv\",\n",
    "                         index_col=['Id'],\n",
    "                         na_values=\"?\")"
   ]
  },
  {
   "cell_type": "code",
   "execution_count": 3,
   "id": "33bd3c20",
   "metadata": {},
   "outputs": [
    {
     "data": {
      "text/html": [
       "<div>\n",
       "<style scoped>\n",
       "    .dataframe tbody tr th:only-of-type {\n",
       "        vertical-align: middle;\n",
       "    }\n",
       "\n",
       "    .dataframe tbody tr th {\n",
       "        vertical-align: top;\n",
       "    }\n",
       "\n",
       "    .dataframe thead th {\n",
       "        text-align: right;\n",
       "    }\n",
       "</style>\n",
       "<table border=\"1\" class=\"dataframe\">\n",
       "  <thead>\n",
       "    <tr style=\"text-align: right;\">\n",
       "      <th></th>\n",
       "      <th>age</th>\n",
       "      <th>workclass</th>\n",
       "      <th>fnlwgt</th>\n",
       "      <th>education</th>\n",
       "      <th>education.num</th>\n",
       "      <th>marital.status</th>\n",
       "      <th>occupation</th>\n",
       "      <th>relationship</th>\n",
       "      <th>race</th>\n",
       "      <th>sex</th>\n",
       "      <th>capital.gain</th>\n",
       "      <th>capital.loss</th>\n",
       "      <th>hours.per.week</th>\n",
       "      <th>native.country</th>\n",
       "      <th>income</th>\n",
       "    </tr>\n",
       "    <tr>\n",
       "      <th>Id</th>\n",
       "      <th></th>\n",
       "      <th></th>\n",
       "      <th></th>\n",
       "      <th></th>\n",
       "      <th></th>\n",
       "      <th></th>\n",
       "      <th></th>\n",
       "      <th></th>\n",
       "      <th></th>\n",
       "      <th></th>\n",
       "      <th></th>\n",
       "      <th></th>\n",
       "      <th></th>\n",
       "      <th></th>\n",
       "      <th></th>\n",
       "    </tr>\n",
       "  </thead>\n",
       "  <tbody>\n",
       "    <tr>\n",
       "      <th>16280</th>\n",
       "      <td>34</td>\n",
       "      <td>Private</td>\n",
       "      <td>204991</td>\n",
       "      <td>Some-college</td>\n",
       "      <td>10</td>\n",
       "      <td>Divorced</td>\n",
       "      <td>Exec-managerial</td>\n",
       "      <td>Own-child</td>\n",
       "      <td>White</td>\n",
       "      <td>Male</td>\n",
       "      <td>0</td>\n",
       "      <td>0</td>\n",
       "      <td>44</td>\n",
       "      <td>United-States</td>\n",
       "      <td>&lt;=50K</td>\n",
       "    </tr>\n",
       "    <tr>\n",
       "      <th>16281</th>\n",
       "      <td>58</td>\n",
       "      <td>Local-gov</td>\n",
       "      <td>310085</td>\n",
       "      <td>10th</td>\n",
       "      <td>6</td>\n",
       "      <td>Married-civ-spouse</td>\n",
       "      <td>Transport-moving</td>\n",
       "      <td>Husband</td>\n",
       "      <td>White</td>\n",
       "      <td>Male</td>\n",
       "      <td>0</td>\n",
       "      <td>0</td>\n",
       "      <td>40</td>\n",
       "      <td>United-States</td>\n",
       "      <td>&lt;=50K</td>\n",
       "    </tr>\n",
       "    <tr>\n",
       "      <th>16282</th>\n",
       "      <td>25</td>\n",
       "      <td>Private</td>\n",
       "      <td>146117</td>\n",
       "      <td>Some-college</td>\n",
       "      <td>10</td>\n",
       "      <td>Never-married</td>\n",
       "      <td>Machine-op-inspct</td>\n",
       "      <td>Not-in-family</td>\n",
       "      <td>White</td>\n",
       "      <td>Male</td>\n",
       "      <td>0</td>\n",
       "      <td>0</td>\n",
       "      <td>42</td>\n",
       "      <td>United-States</td>\n",
       "      <td>&lt;=50K</td>\n",
       "    </tr>\n",
       "    <tr>\n",
       "      <th>16283</th>\n",
       "      <td>24</td>\n",
       "      <td>Private</td>\n",
       "      <td>138938</td>\n",
       "      <td>Some-college</td>\n",
       "      <td>10</td>\n",
       "      <td>Divorced</td>\n",
       "      <td>Adm-clerical</td>\n",
       "      <td>Not-in-family</td>\n",
       "      <td>White</td>\n",
       "      <td>Female</td>\n",
       "      <td>0</td>\n",
       "      <td>0</td>\n",
       "      <td>40</td>\n",
       "      <td>United-States</td>\n",
       "      <td>&lt;=50K</td>\n",
       "    </tr>\n",
       "    <tr>\n",
       "      <th>16284</th>\n",
       "      <td>57</td>\n",
       "      <td>Self-emp-inc</td>\n",
       "      <td>258883</td>\n",
       "      <td>HS-grad</td>\n",
       "      <td>9</td>\n",
       "      <td>Married-civ-spouse</td>\n",
       "      <td>Transport-moving</td>\n",
       "      <td>Husband</td>\n",
       "      <td>White</td>\n",
       "      <td>Male</td>\n",
       "      <td>5178</td>\n",
       "      <td>0</td>\n",
       "      <td>60</td>\n",
       "      <td>Hungary</td>\n",
       "      <td>&gt;50K</td>\n",
       "    </tr>\n",
       "  </tbody>\n",
       "</table>\n",
       "</div>"
      ],
      "text/plain": [
       "       age     workclass  fnlwgt     education  education.num  \\\n",
       "Id                                                              \n",
       "16280   34       Private  204991  Some-college             10   \n",
       "16281   58     Local-gov  310085          10th              6   \n",
       "16282   25       Private  146117  Some-college             10   \n",
       "16283   24       Private  138938  Some-college             10   \n",
       "16284   57  Self-emp-inc  258883       HS-grad              9   \n",
       "\n",
       "           marital.status         occupation   relationship   race     sex  \\\n",
       "Id                                                                           \n",
       "16280            Divorced    Exec-managerial      Own-child  White    Male   \n",
       "16281  Married-civ-spouse   Transport-moving        Husband  White    Male   \n",
       "16282       Never-married  Machine-op-inspct  Not-in-family  White    Male   \n",
       "16283            Divorced       Adm-clerical  Not-in-family  White  Female   \n",
       "16284  Married-civ-spouse   Transport-moving        Husband  White    Male   \n",
       "\n",
       "       capital.gain  capital.loss  hours.per.week native.country income  \n",
       "Id                                                                       \n",
       "16280             0             0              44  United-States  <=50K  \n",
       "16281             0             0              40  United-States  <=50K  \n",
       "16282             0             0              42  United-States  <=50K  \n",
       "16283             0             0              40  United-States  <=50K  \n",
       "16284          5178             0              60        Hungary   >50K  "
      ]
     },
     "execution_count": 3,
     "metadata": {},
     "output_type": "execute_result"
    }
   ],
   "source": [
    "# Observar as primeiras observações\n",
    "\n",
    "data_frame.head()"
   ]
  },
  {
   "cell_type": "code",
   "execution_count": 4,
   "id": "a813bd7e",
   "metadata": {},
   "outputs": [
    {
     "name": "stdout",
     "output_type": "stream",
     "text": [
      "<class 'pandas.core.frame.DataFrame'> \n",
      "\n",
      "<class 'pandas.core.frame.DataFrame'>\n",
      "Int64Index: 32560 entries, 16280 to 48839\n",
      "Data columns (total 15 columns):\n",
      " #   Column          Non-Null Count  Dtype \n",
      "---  ------          --------------  ----- \n",
      " 0   age             32560 non-null  int64 \n",
      " 1   workclass       30724 non-null  object\n",
      " 2   fnlwgt          32560 non-null  int64 \n",
      " 3   education       32560 non-null  object\n",
      " 4   education.num   32560 non-null  int64 \n",
      " 5   marital.status  32560 non-null  object\n",
      " 6   occupation      30717 non-null  object\n",
      " 7   relationship    32560 non-null  object\n",
      " 8   race            32560 non-null  object\n",
      " 9   sex             32560 non-null  object\n",
      " 10  capital.gain    32560 non-null  int64 \n",
      " 11  capital.loss    32560 non-null  int64 \n",
      " 12  hours.per.week  32560 non-null  int64 \n",
      " 13  native.country  31977 non-null  object\n",
      " 14  income          32560 non-null  object\n",
      "dtypes: int64(6), object(9)\n",
      "memory usage: 4.0+ MB\n"
     ]
    }
   ],
   "source": [
    "# Visualizar o tipo do data.frame e suas informações\n",
    "\n",
    "print(type(data_frame),'\\n')\n",
    "data_frame.info()"
   ]
  },
  {
   "cell_type": "markdown",
   "id": "bf02eb68",
   "metadata": {},
   "source": [
    "# Visualizando e Entendo os Dados"
   ]
  },
  {
   "cell_type": "code",
   "execution_count": 5,
   "id": "8863b846",
   "metadata": {},
   "outputs": [
    {
     "data": {
      "text/html": [
       "<div>\n",
       "<style scoped>\n",
       "    .dataframe tbody tr th:only-of-type {\n",
       "        vertical-align: middle;\n",
       "    }\n",
       "\n",
       "    .dataframe tbody tr th {\n",
       "        vertical-align: top;\n",
       "    }\n",
       "\n",
       "    .dataframe thead th {\n",
       "        text-align: right;\n",
       "    }\n",
       "</style>\n",
       "<table border=\"1\" class=\"dataframe\">\n",
       "  <thead>\n",
       "    <tr style=\"text-align: right;\">\n",
       "      <th></th>\n",
       "      <th>age</th>\n",
       "      <th>fnlwgt</th>\n",
       "      <th>education.num</th>\n",
       "      <th>capital.gain</th>\n",
       "      <th>capital.loss</th>\n",
       "      <th>hours.per.week</th>\n",
       "    </tr>\n",
       "  </thead>\n",
       "  <tbody>\n",
       "    <tr>\n",
       "      <th>count</th>\n",
       "      <td>32560.000000</td>\n",
       "      <td>3.256000e+04</td>\n",
       "      <td>32560.000000</td>\n",
       "      <td>32560.000000</td>\n",
       "      <td>32560.000000</td>\n",
       "      <td>32560.000000</td>\n",
       "    </tr>\n",
       "    <tr>\n",
       "      <th>mean</th>\n",
       "      <td>38.581634</td>\n",
       "      <td>1.897818e+05</td>\n",
       "      <td>10.080590</td>\n",
       "      <td>1077.615172</td>\n",
       "      <td>87.306511</td>\n",
       "      <td>40.437469</td>\n",
       "    </tr>\n",
       "    <tr>\n",
       "      <th>std</th>\n",
       "      <td>13.640642</td>\n",
       "      <td>1.055498e+05</td>\n",
       "      <td>2.572709</td>\n",
       "      <td>7385.402999</td>\n",
       "      <td>402.966116</td>\n",
       "      <td>12.347618</td>\n",
       "    </tr>\n",
       "    <tr>\n",
       "      <th>min</th>\n",
       "      <td>17.000000</td>\n",
       "      <td>1.228500e+04</td>\n",
       "      <td>1.000000</td>\n",
       "      <td>0.000000</td>\n",
       "      <td>0.000000</td>\n",
       "      <td>1.000000</td>\n",
       "    </tr>\n",
       "    <tr>\n",
       "      <th>25%</th>\n",
       "      <td>28.000000</td>\n",
       "      <td>1.178315e+05</td>\n",
       "      <td>9.000000</td>\n",
       "      <td>0.000000</td>\n",
       "      <td>0.000000</td>\n",
       "      <td>40.000000</td>\n",
       "    </tr>\n",
       "    <tr>\n",
       "      <th>50%</th>\n",
       "      <td>37.000000</td>\n",
       "      <td>1.783630e+05</td>\n",
       "      <td>10.000000</td>\n",
       "      <td>0.000000</td>\n",
       "      <td>0.000000</td>\n",
       "      <td>40.000000</td>\n",
       "    </tr>\n",
       "    <tr>\n",
       "      <th>75%</th>\n",
       "      <td>48.000000</td>\n",
       "      <td>2.370545e+05</td>\n",
       "      <td>12.000000</td>\n",
       "      <td>0.000000</td>\n",
       "      <td>0.000000</td>\n",
       "      <td>45.000000</td>\n",
       "    </tr>\n",
       "    <tr>\n",
       "      <th>max</th>\n",
       "      <td>90.000000</td>\n",
       "      <td>1.484705e+06</td>\n",
       "      <td>16.000000</td>\n",
       "      <td>99999.000000</td>\n",
       "      <td>4356.000000</td>\n",
       "      <td>99.000000</td>\n",
       "    </tr>\n",
       "  </tbody>\n",
       "</table>\n",
       "</div>"
      ],
      "text/plain": [
       "                age        fnlwgt  education.num  capital.gain  capital.loss  \\\n",
       "count  32560.000000  3.256000e+04   32560.000000  32560.000000  32560.000000   \n",
       "mean      38.581634  1.897818e+05      10.080590   1077.615172     87.306511   \n",
       "std       13.640642  1.055498e+05       2.572709   7385.402999    402.966116   \n",
       "min       17.000000  1.228500e+04       1.000000      0.000000      0.000000   \n",
       "25%       28.000000  1.178315e+05       9.000000      0.000000      0.000000   \n",
       "50%       37.000000  1.783630e+05      10.000000      0.000000      0.000000   \n",
       "75%       48.000000  2.370545e+05      12.000000      0.000000      0.000000   \n",
       "max       90.000000  1.484705e+06      16.000000  99999.000000   4356.000000   \n",
       "\n",
       "       hours.per.week  \n",
       "count    32560.000000  \n",
       "mean        40.437469  \n",
       "std         12.347618  \n",
       "min          1.000000  \n",
       "25%         40.000000  \n",
       "50%         40.000000  \n",
       "75%         45.000000  \n",
       "max         99.000000  "
      ]
     },
     "execution_count": 5,
     "metadata": {},
     "output_type": "execute_result"
    }
   ],
   "source": [
    "# Entendo algumas medidas descritivas\n",
    "\n",
    "data_frame.describe()"
   ]
  },
  {
   "cell_type": "markdown",
   "id": "b754dd65",
   "metadata": {},
   "source": [
    "## Gráficos, Frequências e Correlações"
   ]
  },
  {
   "cell_type": "markdown",
   "id": "25353cf1",
   "metadata": {},
   "source": [
    "### Variáveis Categóricas"
   ]
  },
  {
   "cell_type": "code",
   "execution_count": 6,
   "id": "d1e07e18",
   "metadata": {},
   "outputs": [
    {
     "data": {
      "text/plain": [
       "<AxesSubplot:>"
      ]
     },
     "execution_count": 6,
     "metadata": {},
     "output_type": "execute_result"
    },
    {
     "data": {
      "image/png": "[encoded data removed]",
      "text/plain": [
       "<Figure size 432x288 with 1 Axes>"
      ]
     },
     "metadata": {
      "needs_background": "light"
     },
     "output_type": "display_data"
    }
   ],
   "source": [
    "# Contagem das Idades\n",
    "\n",
    "data_frame[\"age\"].value_counts().plot(kind=\"bar\")"
   ]
  },
  {
   "cell_type": "code",
   "execution_count": 7,
   "id": "66015c51",
   "metadata": {},
   "outputs": [
    {
     "data": {
      "text/plain": [
       "<AxesSubplot:>"
      ]
     },
     "execution_count": 7,
     "metadata": {},
     "output_type": "execute_result"
    },
    {
     "data": {
      "image/png": "[encoded data removed]",
      "text/plain": [
       "<Figure size 432x288 with 1 Axes>"
      ]
     },
     "metadata": {
      "needs_background": "light"
     },
     "output_type": "display_data"
    }
   ],
   "source": [
    "#Contagem de ambos os sexos\n",
    "\n",
    "data_frame[\"sex\"].value_counts().plot(kind=\"bar\")"
   ]
  },
  {
   "cell_type": "code",
   "execution_count": 8,
   "id": "70717b30",
   "metadata": {},
   "outputs": [
    {
     "data": {
      "text/plain": [
       "<AxesSubplot:>"
      ]
     },
     "execution_count": 8,
     "metadata": {},
     "output_type": "execute_result"
    },
    {
     "data": {
      "image/png": "[encoded data removed]",
      "text/plain": [
       "<Figure size 432x288 with 1 Axes>"
      ]
     },
     "metadata": {
      "needs_background": "light"
     },
     "output_type": "display_data"
    }
   ],
   "source": [
    "# Contando as formações\n",
    "\n",
    "data_frame[\"education\"].value_counts().plot(kind=\"bar\")"
   ]
  },
  {
   "cell_type": "code",
   "execution_count": 9,
   "id": "060638ad",
   "metadata": {},
   "outputs": [
    {
     "data": {
      "text/plain": [
       "<AxesSubplot:>"
      ]
     },
     "execution_count": 9,
     "metadata": {},
     "output_type": "execute_result"
    },
    {
     "data": {
      "image/png": "[encoded data removed]",
      "text/plain": [
       "<Figure size 432x288 with 1 Axes>"
      ]
     },
     "metadata": {
      "needs_background": "light"
     },
     "output_type": "display_data"
    }
   ],
   "source": [
    "# Contando as ocupações\n",
    "\n",
    "data_frame[\"occupation\"].value_counts().plot(kind=\"bar\")"
   ]
  },
  {
   "cell_type": "code",
   "execution_count": 10,
   "id": "c3e30c2d",
   "metadata": {},
   "outputs": [
    {
     "data": {
      "text/plain": [
       "<AxesSubplot:>"
      ]
     },
     "execution_count": 10,
     "metadata": {},
     "output_type": "execute_result"
    },
    {
     "data": {
      "image/png": "[encoded data removed]",
      "text/plain": [
       "<Figure size 432x288 with 1 Axes>"
      ]
     },
     "metadata": {
      "needs_background": "light"
     },
     "output_type": "display_data"
    }
   ],
   "source": [
    "# Contando as nacionalidades\n",
    "\n",
    "data_frame[\"native.country\"].value_counts().plot(kind=\"bar\")"
   ]
  },
  {
   "cell_type": "code",
   "execution_count": 11,
   "id": "4b7fd9bb",
   "metadata": {},
   "outputs": [
    {
     "data": {
      "text/plain": [
       "United-States                 0.912187\n",
       "Mexico                        0.020108\n",
       "Philippines                   0.006192\n",
       "Germany                       0.004284\n",
       "Canada                        0.003784\n",
       "Puerto-Rico                   0.003565\n",
       "El-Salvador                   0.003315\n",
       "India                         0.003127\n",
       "Cuba                          0.002971\n",
       "England                       0.002815\n",
       "Jamaica                       0.002533\n",
       "South                         0.002502\n",
       "China                         0.002345\n",
       "Italy                         0.002283\n",
       "Dominican-Republic            0.002189\n",
       "Vietnam                       0.002095\n",
       "Guatemala                     0.002001\n",
       "Japan                         0.001939\n",
       "Poland                        0.001876\n",
       "Columbia                      0.001845\n",
       "Taiwan                        0.001595\n",
       "Haiti                         0.001376\n",
       "Iran                          0.001345\n",
       "Portugal                      0.001157\n",
       "Nicaragua                     0.001063\n",
       "Peru                          0.000969\n",
       "France                        0.000907\n",
       "Greece                        0.000907\n",
       "Ecuador                       0.000876\n",
       "Ireland                       0.000751\n",
       "Hong                          0.000625\n",
       "Cambodia                      0.000594\n",
       "Trinadad&Tobago               0.000594\n",
       "Thailand                      0.000563\n",
       "Laos                          0.000563\n",
       "Yugoslavia                    0.000500\n",
       "Outlying-US(Guam-USVI-etc)    0.000438\n",
       "Hungary                       0.000407\n",
       "Honduras                      0.000407\n",
       "Scotland                      0.000375\n",
       "Holand-Netherlands            0.000031\n",
       "Name: native.country, dtype: float64"
      ]
     },
     "execution_count": 11,
     "metadata": {},
     "output_type": "execute_result"
    }
   ],
   "source": [
    "# Obter o percentual de ocorrências de cada possível valor do atributo\n",
    "\n",
    "data_frame[\"native.country\"].value_counts(normalize = True, dropna = True)"
   ]
  },
  {
   "cell_type": "markdown",
   "id": "e5d130b2",
   "metadata": {},
   "source": [
    "Os dados da coluna 'native.country' estão bastante desbalanceados, com 'Estados Unidos' estando presente em mais de 90% das observações. Logo, a opção adotada será de removê-la."
   ]
  },
  {
   "cell_type": "markdown",
   "id": "e26535d5",
   "metadata": {},
   "source": [
    "### Variávies Numéricas"
   ]
  },
  {
   "cell_type": "markdown",
   "id": "2aef9264",
   "metadata": {},
   "source": [
    "#### Criando um data.frame para modificar Y"
   ]
  },
  {
   "cell_type": "code",
   "execution_count": 12,
   "id": "1750219e",
   "metadata": {},
   "outputs": [],
   "source": [
    "from sklearn.preprocessing import LabelEncoder"
   ]
  },
  {
   "cell_type": "code",
   "execution_count": 13,
   "id": "266cbe7e",
   "metadata": {},
   "outputs": [],
   "source": [
    "data_frame_analise = data_frame.copy()"
   ]
  },
  {
   "cell_type": "code",
   "execution_count": 14,
   "id": "c6d908fd",
   "metadata": {},
   "outputs": [],
   "source": [
    "# Modificando o data.frame, transformando a variável Y em 0s e 1s\n",
    "# Para facilitar o uso na correlação\n",
    "\n",
    "data_frame_analise['income'] = LabelEncoder().fit_transform(data_frame_analise['income'])"
   ]
  },
  {
   "cell_type": "code",
   "execution_count": 15,
   "id": "019c0334",
   "metadata": {},
   "outputs": [
    {
     "name": "stdout",
     "output_type": "stream",
     "text": [
      "Id\n",
      "16280    0\n",
      "16281    0\n",
      "16282    0\n",
      "16283    0\n",
      "16284    1\n",
      "        ..\n",
      "48835    1\n",
      "48836    0\n",
      "48837    0\n",
      "48838    0\n",
      "48839    0\n",
      "Name: income, Length: 32560, dtype: int32\n"
     ]
    }
   ],
   "source": [
    "print(data_frame_analise['income'])"
   ]
  },
  {
   "cell_type": "code",
   "execution_count": 16,
   "id": "aa5a8a51",
   "metadata": {},
   "outputs": [
    {
     "name": "stderr",
     "output_type": "stream",
     "text": [
      "C:\\Users\\samue\\AppData\\Local\\Temp\\ipykernel_12060\\2587928561.py:3: DeprecationWarning: `np.bool` is a deprecated alias for the builtin `bool`. To silence this warning, use `bool` by itself. Doing this will not modify any behavior and is safe. If you specifically wanted the numpy scalar type, use `np.bool_` here.\n",
      "Deprecated in NumPy 1.20; for more details and guidance: https://numpy.org/devdocs/release/1.20.0-notes.html#deprecations\n",
      "  mask = np.triu(np.ones_like(data_frame_analise.corr(), dtype=np.bool))\n"
     ]
    },
    {
     "data": {
      "image/png": "[encoded data removed]",
      "text/plain": [
       "<Figure size 720x720 with 2 Axes>"
      ]
     },
     "metadata": {
      "needs_background": "light"
     },
     "output_type": "display_data"
    }
   ],
   "source": [
    "# Criar a matriz de correlação das variáveis como um heatmap\n",
    "\n",
    "mask = np.triu(np.ones_like(data_frame_analise.corr(), dtype=np.bool))\n",
    "\n",
    "plt.figure(figsize=(10,10))\n",
    "\n",
    "sns.heatmap(data_frame_analise.corr(), mask=mask, square = True, annot=True, vmin=-1, vmax=1, cmap='winter')\n",
    "plt.show()"
   ]
  },
  {
   "cell_type": "markdown",
   "id": "0174aa13",
   "metadata": {},
   "source": [
    "Todas as variáveis possuem certo grau de correlação com a variável classe 'income', exceto por \"fnlwgt\". Logo, esta variável será removida do modelo."
   ]
  },
  {
   "cell_type": "markdown",
   "id": "c2685f67",
   "metadata": {},
   "source": [
    "# Limpeza dos Dados"
   ]
  },
  {
   "cell_type": "code",
   "execution_count": 17,
   "id": "1be52628",
   "metadata": {},
   "outputs": [],
   "source": [
    "# Além das variáveis já citadas, a variável 'education também será removida',\n",
    "# uma vez que a variável 'education.num' já cumpre esse papel\n",
    "\n",
    "data_frame.drop_duplicates(keep='first', inplace=True)\n",
    "data_frame = data_frame.drop(['fnlwgt', 'native.country', 'education'], axis=1)"
   ]
  },
  {
   "cell_type": "code",
   "execution_count": 18,
   "id": "0cc6b246",
   "metadata": {},
   "outputs": [
    {
     "data": {
      "text/html": [
       "<div>\n",
       "<style scoped>\n",
       "    .dataframe tbody tr th:only-of-type {\n",
       "        vertical-align: middle;\n",
       "    }\n",
       "\n",
       "    .dataframe tbody tr th {\n",
       "        vertical-align: top;\n",
       "    }\n",
       "\n",
       "    .dataframe thead th {\n",
       "        text-align: right;\n",
       "    }\n",
       "</style>\n",
       "<table border=\"1\" class=\"dataframe\">\n",
       "  <thead>\n",
       "    <tr style=\"text-align: right;\">\n",
       "      <th></th>\n",
       "      <th>age</th>\n",
       "      <th>workclass</th>\n",
       "      <th>education.num</th>\n",
       "      <th>marital.status</th>\n",
       "      <th>occupation</th>\n",
       "      <th>relationship</th>\n",
       "      <th>race</th>\n",
       "      <th>sex</th>\n",
       "      <th>capital.gain</th>\n",
       "      <th>capital.loss</th>\n",
       "      <th>hours.per.week</th>\n",
       "      <th>income</th>\n",
       "    </tr>\n",
       "    <tr>\n",
       "      <th>Id</th>\n",
       "      <th></th>\n",
       "      <th></th>\n",
       "      <th></th>\n",
       "      <th></th>\n",
       "      <th></th>\n",
       "      <th></th>\n",
       "      <th></th>\n",
       "      <th></th>\n",
       "      <th></th>\n",
       "      <th></th>\n",
       "      <th></th>\n",
       "      <th></th>\n",
       "    </tr>\n",
       "  </thead>\n",
       "  <tbody>\n",
       "    <tr>\n",
       "      <th>16280</th>\n",
       "      <td>34</td>\n",
       "      <td>Private</td>\n",
       "      <td>10</td>\n",
       "      <td>Divorced</td>\n",
       "      <td>Exec-managerial</td>\n",
       "      <td>Own-child</td>\n",
       "      <td>White</td>\n",
       "      <td>Male</td>\n",
       "      <td>0</td>\n",
       "      <td>0</td>\n",
       "      <td>44</td>\n",
       "      <td>&lt;=50K</td>\n",
       "    </tr>\n",
       "    <tr>\n",
       "      <th>16281</th>\n",
       "      <td>58</td>\n",
       "      <td>Local-gov</td>\n",
       "      <td>6</td>\n",
       "      <td>Married-civ-spouse</td>\n",
       "      <td>Transport-moving</td>\n",
       "      <td>Husband</td>\n",
       "      <td>White</td>\n",
       "      <td>Male</td>\n",
       "      <td>0</td>\n",
       "      <td>0</td>\n",
       "      <td>40</td>\n",
       "      <td>&lt;=50K</td>\n",
       "    </tr>\n",
       "    <tr>\n",
       "      <th>16282</th>\n",
       "      <td>25</td>\n",
       "      <td>Private</td>\n",
       "      <td>10</td>\n",
       "      <td>Never-married</td>\n",
       "      <td>Machine-op-inspct</td>\n",
       "      <td>Not-in-family</td>\n",
       "      <td>White</td>\n",
       "      <td>Male</td>\n",
       "      <td>0</td>\n",
       "      <td>0</td>\n",
       "      <td>42</td>\n",
       "      <td>&lt;=50K</td>\n",
       "    </tr>\n",
       "    <tr>\n",
       "      <th>16283</th>\n",
       "      <td>24</td>\n",
       "      <td>Private</td>\n",
       "      <td>10</td>\n",
       "      <td>Divorced</td>\n",
       "      <td>Adm-clerical</td>\n",
       "      <td>Not-in-family</td>\n",
       "      <td>White</td>\n",
       "      <td>Female</td>\n",
       "      <td>0</td>\n",
       "      <td>0</td>\n",
       "      <td>40</td>\n",
       "      <td>&lt;=50K</td>\n",
       "    </tr>\n",
       "    <tr>\n",
       "      <th>16284</th>\n",
       "      <td>57</td>\n",
       "      <td>Self-emp-inc</td>\n",
       "      <td>9</td>\n",
       "      <td>Married-civ-spouse</td>\n",
       "      <td>Transport-moving</td>\n",
       "      <td>Husband</td>\n",
       "      <td>White</td>\n",
       "      <td>Male</td>\n",
       "      <td>5178</td>\n",
       "      <td>0</td>\n",
       "      <td>60</td>\n",
       "      <td>&gt;50K</td>\n",
       "    </tr>\n",
       "  </tbody>\n",
       "</table>\n",
       "</div>"
      ],
      "text/plain": [
       "       age     workclass  education.num      marital.status  \\\n",
       "Id                                                            \n",
       "16280   34       Private             10            Divorced   \n",
       "16281   58     Local-gov              6  Married-civ-spouse   \n",
       "16282   25       Private             10       Never-married   \n",
       "16283   24       Private             10            Divorced   \n",
       "16284   57  Self-emp-inc              9  Married-civ-spouse   \n",
       "\n",
       "              occupation   relationship   race     sex  capital.gain  \\\n",
       "Id                                                                     \n",
       "16280    Exec-managerial      Own-child  White    Male             0   \n",
       "16281   Transport-moving        Husband  White    Male             0   \n",
       "16282  Machine-op-inspct  Not-in-family  White    Male             0   \n",
       "16283       Adm-clerical  Not-in-family  White  Female             0   \n",
       "16284   Transport-moving        Husband  White    Male          5178   \n",
       "\n",
       "       capital.loss  hours.per.week income  \n",
       "Id                                          \n",
       "16280             0              44  <=50K  \n",
       "16281             0              40  <=50K  \n",
       "16282             0              42  <=50K  \n",
       "16283             0              40  <=50K  \n",
       "16284             0              60   >50K  "
      ]
     },
     "execution_count": 18,
     "metadata": {},
     "output_type": "execute_result"
    }
   ],
   "source": [
    "data_frame.head()"
   ]
  },
  {
   "cell_type": "code",
   "execution_count": 19,
   "id": "d172c810",
   "metadata": {},
   "outputs": [],
   "source": [
    "# Definindo os dados de treino\n",
    "\n",
    "Y_treino = data_frame.pop('income')\n",
    "X_treino = data_frame"
   ]
  },
  {
   "cell_type": "code",
   "execution_count": 20,
   "id": "154cee73",
   "metadata": {},
   "outputs": [
    {
     "name": "stdout",
     "output_type": "stream",
     "text": [
      "Id\n",
      "16280    <=50K\n",
      "16281    <=50K\n",
      "16282    <=50K\n",
      "16283    <=50K\n",
      "16284     >50K\n",
      "         ...  \n",
      "48835     >50K\n",
      "48836    <=50K\n",
      "48837    <=50K\n",
      "48838    <=50K\n",
      "48839    <=50K\n",
      "Name: income, Length: 32536, dtype: object\n"
     ]
    }
   ],
   "source": [
    "print(Y_treino)"
   ]
  },
  {
   "cell_type": "code",
   "execution_count": 21,
   "id": "8b138751",
   "metadata": {},
   "outputs": [
    {
     "data": {
      "text/html": [
       "<div>\n",
       "<style scoped>\n",
       "    .dataframe tbody tr th:only-of-type {\n",
       "        vertical-align: middle;\n",
       "    }\n",
       "\n",
       "    .dataframe tbody tr th {\n",
       "        vertical-align: top;\n",
       "    }\n",
       "\n",
       "    .dataframe thead th {\n",
       "        text-align: right;\n",
       "    }\n",
       "</style>\n",
       "<table border=\"1\" class=\"dataframe\">\n",
       "  <thead>\n",
       "    <tr style=\"text-align: right;\">\n",
       "      <th></th>\n",
       "      <th>age</th>\n",
       "      <th>workclass</th>\n",
       "      <th>education.num</th>\n",
       "      <th>marital.status</th>\n",
       "      <th>occupation</th>\n",
       "      <th>relationship</th>\n",
       "      <th>race</th>\n",
       "      <th>sex</th>\n",
       "      <th>capital.gain</th>\n",
       "      <th>capital.loss</th>\n",
       "      <th>hours.per.week</th>\n",
       "    </tr>\n",
       "    <tr>\n",
       "      <th>Id</th>\n",
       "      <th></th>\n",
       "      <th></th>\n",
       "      <th></th>\n",
       "      <th></th>\n",
       "      <th></th>\n",
       "      <th></th>\n",
       "      <th></th>\n",
       "      <th></th>\n",
       "      <th></th>\n",
       "      <th></th>\n",
       "      <th></th>\n",
       "    </tr>\n",
       "  </thead>\n",
       "  <tbody>\n",
       "    <tr>\n",
       "      <th>16280</th>\n",
       "      <td>34</td>\n",
       "      <td>Private</td>\n",
       "      <td>10</td>\n",
       "      <td>Divorced</td>\n",
       "      <td>Exec-managerial</td>\n",
       "      <td>Own-child</td>\n",
       "      <td>White</td>\n",
       "      <td>Male</td>\n",
       "      <td>0</td>\n",
       "      <td>0</td>\n",
       "      <td>44</td>\n",
       "    </tr>\n",
       "    <tr>\n",
       "      <th>16281</th>\n",
       "      <td>58</td>\n",
       "      <td>Local-gov</td>\n",
       "      <td>6</td>\n",
       "      <td>Married-civ-spouse</td>\n",
       "      <td>Transport-moving</td>\n",
       "      <td>Husband</td>\n",
       "      <td>White</td>\n",
       "      <td>Male</td>\n",
       "      <td>0</td>\n",
       "      <td>0</td>\n",
       "      <td>40</td>\n",
       "    </tr>\n",
       "    <tr>\n",
       "      <th>16282</th>\n",
       "      <td>25</td>\n",
       "      <td>Private</td>\n",
       "      <td>10</td>\n",
       "      <td>Never-married</td>\n",
       "      <td>Machine-op-inspct</td>\n",
       "      <td>Not-in-family</td>\n",
       "      <td>White</td>\n",
       "      <td>Male</td>\n",
       "      <td>0</td>\n",
       "      <td>0</td>\n",
       "      <td>42</td>\n",
       "    </tr>\n",
       "    <tr>\n",
       "      <th>16283</th>\n",
       "      <td>24</td>\n",
       "      <td>Private</td>\n",
       "      <td>10</td>\n",
       "      <td>Divorced</td>\n",
       "      <td>Adm-clerical</td>\n",
       "      <td>Not-in-family</td>\n",
       "      <td>White</td>\n",
       "      <td>Female</td>\n",
       "      <td>0</td>\n",
       "      <td>0</td>\n",
       "      <td>40</td>\n",
       "    </tr>\n",
       "    <tr>\n",
       "      <th>16284</th>\n",
       "      <td>57</td>\n",
       "      <td>Self-emp-inc</td>\n",
       "      <td>9</td>\n",
       "      <td>Married-civ-spouse</td>\n",
       "      <td>Transport-moving</td>\n",
       "      <td>Husband</td>\n",
       "      <td>White</td>\n",
       "      <td>Male</td>\n",
       "      <td>5178</td>\n",
       "      <td>0</td>\n",
       "      <td>60</td>\n",
       "    </tr>\n",
       "  </tbody>\n",
       "</table>\n",
       "</div>"
      ],
      "text/plain": [
       "       age     workclass  education.num      marital.status  \\\n",
       "Id                                                            \n",
       "16280   34       Private             10            Divorced   \n",
       "16281   58     Local-gov              6  Married-civ-spouse   \n",
       "16282   25       Private             10       Never-married   \n",
       "16283   24       Private             10            Divorced   \n",
       "16284   57  Self-emp-inc              9  Married-civ-spouse   \n",
       "\n",
       "              occupation   relationship   race     sex  capital.gain  \\\n",
       "Id                                                                     \n",
       "16280    Exec-managerial      Own-child  White    Male             0   \n",
       "16281   Transport-moving        Husband  White    Male             0   \n",
       "16282  Machine-op-inspct  Not-in-family  White    Male             0   \n",
       "16283       Adm-clerical  Not-in-family  White  Female             0   \n",
       "16284   Transport-moving        Husband  White    Male          5178   \n",
       "\n",
       "       capital.loss  hours.per.week  \n",
       "Id                                   \n",
       "16280             0              44  \n",
       "16281             0              40  \n",
       "16282             0              42  \n",
       "16283             0              40  \n",
       "16284             0              60  "
      ]
     },
     "execution_count": 21,
     "metadata": {},
     "output_type": "execute_result"
    }
   ],
   "source": [
    "X_treino.head()"
   ]
  },
  {
   "cell_type": "markdown",
   "id": "944b4d6a",
   "metadata": {},
   "source": [
    "## Pipelines e Pré-Processamento"
   ]
  },
  {
   "cell_type": "markdown",
   "id": "84c7684b",
   "metadata": {},
   "source": [
    "### Há colunas com dados categóricos, númericos e numéricos esparsos"
   ]
  },
  {
   "cell_type": "code",
   "execution_count": 22,
   "id": "6d873e52",
   "metadata": {},
   "outputs": [],
   "source": [
    "# Definir quais colunas/features são de cada tipo\n",
    "\n",
    "colunas_numericas   = list(X_treino.select_dtypes(include=[np.number]).columns.values)\n",
    "colunas_numericas.remove('capital.gain')\n",
    "colunas_numericas.remove('capital.loss')\n",
    "\n",
    "\n",
    "colunas_esparsas    = ['capital.gain', 'capital.loss']\n",
    "colunas_categoricas = list(X_treino.select_dtypes(exclude=[np.number]).columns.values)"
   ]
  },
  {
   "cell_type": "code",
   "execution_count": 23,
   "id": "4f6b8142",
   "metadata": {},
   "outputs": [
    {
     "name": "stdout",
     "output_type": "stream",
     "text": [
      "\n",
      "Colunas numéricas:  ['age', 'education.num', 'hours.per.week']\n",
      "\n",
      "Colunas esparsas:   ['capital.gain', 'capital.loss']\n",
      "\n",
      "Colunas categóricas:['workclass', 'marital.status', 'occupation', 'relationship', 'race', 'sex']\n"
     ]
    }
   ],
   "source": [
    "print(f\"\\nColunas numéricas:  {colunas_numericas}\")\n",
    "print(f\"\\nColunas esparsas:   {colunas_esparsas}\")\n",
    "print(f\"\\nColunas categóricas:{colunas_categoricas}\")"
   ]
  },
  {
   "cell_type": "markdown",
   "id": "6a54f485",
   "metadata": {},
   "source": [
    "### Importando as classes e criando as pipelines"
   ]
  },
  {
   "cell_type": "code",
   "execution_count": 24,
   "id": "2554623e",
   "metadata": {},
   "outputs": [],
   "source": [
    "from sklearn.impute import SimpleImputer\n",
    "from sklearn.preprocessing import OneHotEncoder\n",
    "from sklearn.pipeline import Pipeline\n",
    "from sklearn.impute import KNNImputer\n",
    "from sklearn.preprocessing import StandardScaler\n",
    "from sklearn.preprocessing import RobustScaler\n",
    "from sklearn.compose import ColumnTransformer"
   ]
  },
  {
   "cell_type": "code",
   "execution_count": 25,
   "id": "fa4f6928",
   "metadata": {},
   "outputs": [],
   "source": [
    "# Criar a pipeline para os dados categóricos\n",
    "# Imputando a moda nos valores faltantes\n",
    "\n",
    "pipeline_categorica = Pipeline(steps = [\n",
    "    \n",
    "    ('imputer', SimpleImputer(strategy = 'most_frequent')),\n",
    "    ('onehot', OneHotEncoder(drop='if_binary'))\n",
    "    \n",
    "])"
   ]
  },
  {
   "cell_type": "code",
   "execution_count": 26,
   "id": "265762d3",
   "metadata": {},
   "outputs": [],
   "source": [
    "# Criar a pipeline para os dados esparsos\n",
    "# Imputando os valores faltantes com os 12 vizinhos mais próximos\n",
    "\n",
    "pipeline_esparsa = Pipeline(steps = [\n",
    "    \n",
    "    ('imputer', KNNImputer(n_neighbors=12, weights=\"uniform\")),\n",
    "    ('scaler', RobustScaler())\n",
    "    \n",
    "])"
   ]
  },
  {
   "cell_type": "code",
   "execution_count": 27,
   "id": "7464bc05",
   "metadata": {},
   "outputs": [],
   "source": [
    "# Criar a pipeline para dados numéricos\n",
    "# Com os dados passando pela padronização Z-Score\n",
    "\n",
    "pipeline_numerica = Pipeline(steps = [\n",
    "    \n",
    "    ('imputer', KNNImputer(n_neighbors=12, weights=\"uniform\")),\n",
    "    ('scaler', StandardScaler())\n",
    "    \n",
    "])"
   ]
  },
  {
   "cell_type": "markdown",
   "id": "2f2cfedd",
   "metadata": {},
   "source": [
    "#### Criando o Pré-Processador que irá transformar os dados com base nos pipelines"
   ]
  },
  {
   "cell_type": "code",
   "execution_count": 28,
   "id": "c720b70c",
   "metadata": {},
   "outputs": [],
   "source": [
    "processador = ColumnTransformer(transformers = [\n",
    "    \n",
    "    ('num', pipeline_numerica,   colunas_numericas),\n",
    "    ('spr', pipeline_esparsa,    colunas_esparsas),\n",
    "    ('cat', pipeline_categorica, colunas_categoricas)\n",
    "    \n",
    "])"
   ]
  },
  {
   "cell_type": "code",
   "execution_count": 29,
   "id": "5d848c60",
   "metadata": {},
   "outputs": [],
   "source": [
    "X_treino = processador.fit_transform(X_treino)"
   ]
  },
  {
   "cell_type": "markdown",
   "id": "3216f357",
   "metadata": {},
   "source": [
    "# Classificador KNN"
   ]
  },
  {
   "cell_type": "code",
   "execution_count": 30,
   "id": "18c30e57",
   "metadata": {},
   "outputs": [],
   "source": [
    "# Importando classes\n",
    "\n",
    "from sklearn.neighbors import KNeighborsClassifier\n",
    "from sklearn.model_selection import cross_val_score"
   ]
  },
  {
   "cell_type": "code",
   "execution_count": 31,
   "id": "1b9cf75c",
   "metadata": {},
   "outputs": [],
   "source": [
    "# Instancia o classificador com k=20\n",
    "\n",
    "KNN = KNeighborsClassifier(n_neighbors=20)"
   ]
  },
  {
   "cell_type": "code",
   "execution_count": 32,
   "id": "dce5ef57",
   "metadata": {},
   "outputs": [
    {
     "name": "stdout",
     "output_type": "stream",
     "text": [
      "Acurácia com validação cruzada:    0.8682\n"
     ]
    }
   ],
   "source": [
    "# Calcula a acurácia com cross-validation com 5 folds e k=20\n",
    "\n",
    "score = cross_val_score(KNN, X_treino, Y_treino, cv = 5, scoring=\"accuracy\")\n",
    "\n",
    "print(f\"Acurácia com validação cruzada:{score.mean():10.4f}\")"
   ]
  },
  {
   "cell_type": "markdown",
   "id": "ef3212f9",
   "metadata": {},
   "source": [
    "## Testando vários Ks diferentes"
   ]
  },
  {
   "cell_type": "code",
   "execution_count": 33,
   "id": "2073c3f7",
   "metadata": {},
   "outputs": [],
   "source": [
    "K = [10,11,12,13,14,15,16,17,18,19,20,21,22,23,24,25,26,27,28,29,30]"
   ]
  },
  {
   "cell_type": "markdown",
   "id": "3ac060b6",
   "metadata": {},
   "source": [
    "#### Observação: O tempo de processamento é grande com tantos ks"
   ]
  },
  {
   "cell_type": "code",
   "execution_count": 34,
   "id": "37b4e51f",
   "metadata": {},
   "outputs": [],
   "source": [
    "# Definir dicionário que guardará os valores de acurácia\n",
    "\n",
    "acuracia_k = {}"
   ]
  },
  {
   "cell_type": "code",
   "execution_count": 35,
   "id": "de7bfe66",
   "metadata": {},
   "outputs": [],
   "source": [
    "# Loop que faz a cross-validation de cada k e armazena sua acurácia\n",
    "\n",
    "#for n_vizinhos in K:\n",
    " #   \n",
    "  #  score = cross_val_score(KNeighborsClassifier(n_neighbors=n_vizinhos), X_treino, Y_treino, cv = 5, scoring=\"accuracy\").mean()\n",
    "   # \n",
    "    #acuracia_k[n_vizinhos] = score"
   ]
  },
  {
   "cell_type": "code",
   "execution_count": 36,
   "id": "3fe39c57",
   "metadata": {},
   "outputs": [
    {
     "name": "stdout",
     "output_type": "stream",
     "text": [
      "{}\n"
     ]
    }
   ],
   "source": [
    "print(acuracia_k)"
   ]
  },
  {
   "cell_type": "code",
   "execution_count": 37,
   "id": "590f9690",
   "metadata": {},
   "outputs": [],
   "source": [
    "##### Observação: Este dicionário foi obtido em uma das iterações. Deve ser usado quando não se quer esperar o tempo total de processamento do loop acima\n",
    "\n",
    "acuracia_k = {\n",
    " '10': 0.8624385749385748,\n",
    " '11': 0.862039312039312,\n",
    " '12': 0.8633292383292381,\n",
    " '13': 0.8630528255528256,\n",
    " '14': 0.8627457002457003,\n",
    " '15': 0.8629299754299755,\n",
    " '16': 0.8621621621621621,\n",
    " '17': 0.8630221130221131,\n",
    " '18': 0.8633906633906634,\n",
    " '19': 0.8628071253071253,\n",
    " '20': 0.8647113022113022,\n",
    " '21': 0.8641277641277642,\n",
    " '22': 0.864527027027027,\n",
    " '23': 0.8637592137592136,\n",
    " '24': 0.8643120393120393,\n",
    " '25': 0.8645577395577396,\n",
    " '26': 0.8641277641277642,\n",
    " '27': 0.864066339066339,\n",
    " '28': 0.8640970515970515,\n",
    " '29': 0.8639742014742016,\n",
    " '30': 0.8639127764127764}"
   ]
  },
  {
   "cell_type": "code",
   "execution_count": 38,
   "id": "51f2ee0f",
   "metadata": {},
   "outputs": [
    {
     "data": {
      "text/plain": [
       "21"
      ]
     },
     "execution_count": 38,
     "metadata": {},
     "output_type": "execute_result"
    }
   ],
   "source": [
    "# Extrair apenas os valores do dicionário para plotar\n",
    "\n",
    "valores_acuracias = list((acuracia_k.values()))\n",
    "len(valores_acuracias)"
   ]
  },
  {
   "cell_type": "code",
   "execution_count": 39,
   "id": "6deac2bd",
   "metadata": {},
   "outputs": [
    {
     "data": {
      "image/png": "[encoded data removed]",
      "text/plain": [
       "<Figure size 864x432 with 1 Axes>"
      ]
     },
     "metadata": {
      "needs_background": "light"
     },
     "output_type": "display_data"
    }
   ],
   "source": [
    "# Plotagem das acurácias de ks, usando matplotlib\n",
    "\n",
    "plt.figure(figsize=(12, 6))  \n",
    "plt.plot(K, valores_acuracias, color='red', linestyle='dashed', marker='o',  \n",
    "         markerfacecolor='darkorange', markersize=20)\n",
    "\n",
    "plt.title('Validação Cruzada: Acurácias obtidas para cada K')  \n",
    "plt.xlabel('Valor de K')  \n",
    "plt.ylabel('Acuracia')\n",
    "plt.xticks(K)\n",
    "plt.show()"
   ]
  },
  {
   "cell_type": "code",
   "execution_count": 40,
   "id": "17bb1624",
   "metadata": {},
   "outputs": [
    {
     "name": "stdout",
     "output_type": "stream",
     "text": [
      "O K com maior acurácia é igual a: 20 com acurácia de 86.4711 %\n"
     ]
    }
   ],
   "source": [
    "# Encontrar o melhor K de todos\n",
    "\n",
    "melhor_k = max(acuracia_k, key = acuracia_k.get)\n",
    "maior_acuracia = acuracia_k[melhor_k]\n",
    "\n",
    "print(f\"O K com maior acurácia é igual a: {melhor_k} com acurácia de {(maior_acuracia*100):6.6} %\")"
   ]
  },
  {
   "cell_type": "code",
   "execution_count": 41,
   "id": "b810ebaa",
   "metadata": {},
   "outputs": [],
   "source": [
    "KNN = KNeighborsClassifier(n_neighbors=melhor_k)"
   ]
  },
  {
   "cell_type": "code",
   "execution_count": 42,
   "id": "8157ed02",
   "metadata": {},
   "outputs": [
    {
     "data": {
      "text/plain": [
       "KNeighborsClassifier(n_neighbors='20')"
      ]
     },
     "execution_count": 42,
     "metadata": {},
     "output_type": "execute_result"
    }
   ],
   "source": [
    "# Treinar o classificador KNN\n",
    "\n",
    "KNN.fit(X_treino, Y_treino)"
   ]
  },
  {
   "cell_type": "markdown",
   "id": "b467bc25",
   "metadata": {},
   "source": [
    "# Testando o Classificador"
   ]
  },
  {
   "cell_type": "code",
   "execution_count": 43,
   "id": "3f5156b8",
   "metadata": {},
   "outputs": [],
   "source": [
    "# Importar os dados de treino\n",
    "\n",
    "dados_teste = pd.read_csv(\"C:/Users/samue/Desktop/1. Prog/3. Python (Machine Learning)/Resolução/test_data.csv\", index_col=['Id'], na_values=\"?\")"
   ]
  },
  {
   "cell_type": "code",
   "execution_count": 44,
   "id": "9e86a026",
   "metadata": {},
   "outputs": [],
   "source": [
    "# Eliminar as mesmas colunas que anteriormente\n",
    "\n",
    "X_teste = dados_teste.drop(['fnlwgt', 'native.country', 'education'], axis=1)"
   ]
  },
  {
   "cell_type": "code",
   "execution_count": 45,
   "id": "8f47effd",
   "metadata": {},
   "outputs": [
    {
     "data": {
      "text/html": [
       "<div>\n",
       "<style scoped>\n",
       "    .dataframe tbody tr th:only-of-type {\n",
       "        vertical-align: middle;\n",
       "    }\n",
       "\n",
       "    .dataframe tbody tr th {\n",
       "        vertical-align: top;\n",
       "    }\n",
       "\n",
       "    .dataframe thead th {\n",
       "        text-align: right;\n",
       "    }\n",
       "</style>\n",
       "<table border=\"1\" class=\"dataframe\">\n",
       "  <thead>\n",
       "    <tr style=\"text-align: right;\">\n",
       "      <th></th>\n",
       "      <th>age</th>\n",
       "      <th>workclass</th>\n",
       "      <th>education.num</th>\n",
       "      <th>marital.status</th>\n",
       "      <th>occupation</th>\n",
       "      <th>relationship</th>\n",
       "      <th>race</th>\n",
       "      <th>sex</th>\n",
       "      <th>capital.gain</th>\n",
       "      <th>capital.loss</th>\n",
       "      <th>hours.per.week</th>\n",
       "    </tr>\n",
       "    <tr>\n",
       "      <th>Id</th>\n",
       "      <th></th>\n",
       "      <th></th>\n",
       "      <th></th>\n",
       "      <th></th>\n",
       "      <th></th>\n",
       "      <th></th>\n",
       "      <th></th>\n",
       "      <th></th>\n",
       "      <th></th>\n",
       "      <th></th>\n",
       "      <th></th>\n",
       "    </tr>\n",
       "  </thead>\n",
       "  <tbody>\n",
       "    <tr>\n",
       "      <th>0</th>\n",
       "      <td>25</td>\n",
       "      <td>Private</td>\n",
       "      <td>13</td>\n",
       "      <td>Never-married</td>\n",
       "      <td>Prof-specialty</td>\n",
       "      <td>Not-in-family</td>\n",
       "      <td>White</td>\n",
       "      <td>Male</td>\n",
       "      <td>0</td>\n",
       "      <td>0</td>\n",
       "      <td>44</td>\n",
       "    </tr>\n",
       "    <tr>\n",
       "      <th>1</th>\n",
       "      <td>64</td>\n",
       "      <td>State-gov</td>\n",
       "      <td>13</td>\n",
       "      <td>Married-civ-spouse</td>\n",
       "      <td>Exec-managerial</td>\n",
       "      <td>Husband</td>\n",
       "      <td>White</td>\n",
       "      <td>Male</td>\n",
       "      <td>0</td>\n",
       "      <td>0</td>\n",
       "      <td>45</td>\n",
       "    </tr>\n",
       "    <tr>\n",
       "      <th>2</th>\n",
       "      <td>31</td>\n",
       "      <td>Private</td>\n",
       "      <td>14</td>\n",
       "      <td>Divorced</td>\n",
       "      <td>Exec-managerial</td>\n",
       "      <td>Not-in-family</td>\n",
       "      <td>White</td>\n",
       "      <td>Female</td>\n",
       "      <td>0</td>\n",
       "      <td>0</td>\n",
       "      <td>40</td>\n",
       "    </tr>\n",
       "    <tr>\n",
       "      <th>3</th>\n",
       "      <td>45</td>\n",
       "      <td>Private</td>\n",
       "      <td>9</td>\n",
       "      <td>Never-married</td>\n",
       "      <td>Machine-op-inspct</td>\n",
       "      <td>Own-child</td>\n",
       "      <td>White</td>\n",
       "      <td>Male</td>\n",
       "      <td>0</td>\n",
       "      <td>0</td>\n",
       "      <td>40</td>\n",
       "    </tr>\n",
       "    <tr>\n",
       "      <th>4</th>\n",
       "      <td>64</td>\n",
       "      <td>Self-emp-inc</td>\n",
       "      <td>13</td>\n",
       "      <td>Married-civ-spouse</td>\n",
       "      <td>Exec-managerial</td>\n",
       "      <td>Husband</td>\n",
       "      <td>White</td>\n",
       "      <td>Male</td>\n",
       "      <td>0</td>\n",
       "      <td>0</td>\n",
       "      <td>50</td>\n",
       "    </tr>\n",
       "  </tbody>\n",
       "</table>\n",
       "</div>"
      ],
      "text/plain": [
       "    age     workclass  education.num      marital.status         occupation  \\\n",
       "Id                                                                            \n",
       "0    25       Private             13       Never-married     Prof-specialty   \n",
       "1    64     State-gov             13  Married-civ-spouse    Exec-managerial   \n",
       "2    31       Private             14            Divorced    Exec-managerial   \n",
       "3    45       Private              9       Never-married  Machine-op-inspct   \n",
       "4    64  Self-emp-inc             13  Married-civ-spouse    Exec-managerial   \n",
       "\n",
       "     relationship   race     sex  capital.gain  capital.loss  hours.per.week  \n",
       "Id                                                                            \n",
       "0   Not-in-family  White    Male             0             0              44  \n",
       "1         Husband  White    Male             0             0              45  \n",
       "2   Not-in-family  White  Female             0             0              40  \n",
       "3       Own-child  White    Male             0             0              40  \n",
       "4         Husband  White    Male             0             0              50  "
      ]
     },
     "execution_count": 45,
     "metadata": {},
     "output_type": "execute_result"
    }
   ],
   "source": [
    "X_teste.head()"
   ]
  },
  {
   "cell_type": "code",
   "execution_count": 46,
   "id": "2cab8da0",
   "metadata": {},
   "outputs": [],
   "source": [
    "# Processando os dados de teste com o pipeline definido anteriormente\n",
    "\n",
    "X_teste = processador.transform(X_teste)"
   ]
  },
  {
   "cell_type": "code",
   "execution_count": 47,
   "id": "d33b266e",
   "metadata": {},
   "outputs": [
    {
     "name": "stdout",
     "output_type": "stream",
     "text": [
      "20\n"
     ]
    }
   ],
   "source": [
    "melhor_k = int(melhor_k)\n",
    "print(melhor_k)"
   ]
  },
  {
   "cell_type": "code",
   "execution_count": 48,
   "id": "5df3adc1",
   "metadata": {},
   "outputs": [
    {
     "name": "stdout",
     "output_type": "stream",
     "text": [
      "['<=50K' '>50K' '<=50K' ... '<=50K' '<=50K' '>50K']\n"
     ]
    }
   ],
   "source": [
    "## A predição executada pelo classificador KNN\n",
    "\n",
    "KNN = KNeighborsClassifier(n_neighbors = melhor_k)\n",
    "KNN.fit(X_treino, Y_treino)\n",
    "\n",
    "predicoes = KNN.predict(X_teste)\n",
    "print(predicoes)"
   ]
  },
  {
   "cell_type": "markdown",
   "id": "880a89e7",
   "metadata": {},
   "source": [
    "## Submissão para o Kaggle"
   ]
  },
  {
   "cell_type": "code",
   "execution_count": 53,
   "id": "1ef4890d",
   "metadata": {},
   "outputs": [],
   "source": [
    "# Criar um data.frame com as colunas Id e income\n",
    "\n",
    "submissao = pd.DataFrame()"
   ]
  },
  {
   "cell_type": "code",
   "execution_count": 54,
   "id": "595e32e1",
   "metadata": {},
   "outputs": [],
   "source": [
    "# Definir os dados do data.frame\n",
    "\n",
    "submissao[0] = dados_teste.index\n",
    "submissao[1] = predicoes\n",
    "submissao.columns = ['Id','income']"
   ]
  },
  {
   "cell_type": "code",
   "execution_count": 55,
   "id": "34365685",
   "metadata": {},
   "outputs": [
    {
     "data": {
      "text/html": [
       "<div>\n",
       "<style scoped>\n",
       "    .dataframe tbody tr th:only-of-type {\n",
       "        vertical-align: middle;\n",
       "    }\n",
       "\n",
       "    .dataframe tbody tr th {\n",
       "        vertical-align: top;\n",
       "    }\n",
       "\n",
       "    .dataframe thead th {\n",
       "        text-align: right;\n",
       "    }\n",
       "</style>\n",
       "<table border=\"1\" class=\"dataframe\">\n",
       "  <thead>\n",
       "    <tr style=\"text-align: right;\">\n",
       "      <th></th>\n",
       "      <th>Id</th>\n",
       "      <th>income</th>\n",
       "    </tr>\n",
       "  </thead>\n",
       "  <tbody>\n",
       "    <tr>\n",
       "      <th>0</th>\n",
       "      <td>0</td>\n",
       "      <td>&lt;=50K</td>\n",
       "    </tr>\n",
       "    <tr>\n",
       "      <th>1</th>\n",
       "      <td>1</td>\n",
       "      <td>&gt;50K</td>\n",
       "    </tr>\n",
       "    <tr>\n",
       "      <th>2</th>\n",
       "      <td>2</td>\n",
       "      <td>&lt;=50K</td>\n",
       "    </tr>\n",
       "    <tr>\n",
       "      <th>3</th>\n",
       "      <td>3</td>\n",
       "      <td>&lt;=50K</td>\n",
       "    </tr>\n",
       "    <tr>\n",
       "      <th>4</th>\n",
       "      <td>4</td>\n",
       "      <td>&gt;50K</td>\n",
       "    </tr>\n",
       "  </tbody>\n",
       "</table>\n",
       "</div>"
      ],
      "text/plain": [
       "   Id income\n",
       "0   0  <=50K\n",
       "1   1   >50K\n",
       "2   2  <=50K\n",
       "3   3  <=50K\n",
       "4   4   >50K"
      ]
     },
     "execution_count": 55,
     "metadata": {},
     "output_type": "execute_result"
    }
   ],
   "source": [
    "submissao.head()"
   ]
  },
  {
   "cell_type": "code",
   "execution_count": 56,
   "id": "91944438",
   "metadata": {},
   "outputs": [],
   "source": [
    "# Exportar como arquivo.csv\n",
    "\n",
    "submissao.to_csv('submissao.csv',index = False)"
   ]
  }
 ],
 "metadata": {
  "kernelspec": {
   "display_name": "Python 3 (ipykernel)",
   "language": "python",
   "name": "python3"
  },
  "language_info": {
   "codemirror_mode": {
    "name": "ipython",
    "version": 3
   },
   "file_extension": ".py",
   "mimetype": "text/x-python",
   "name": "python",
   "nbconvert_exporter": "python",
   "pygments_lexer": "ipython3",
   "version": "3.9.12"
  }
 },
 "nbformat": 4,
 "nbformat_minor": 5
}
